{
 "cells": [
  {
   "cell_type": "markdown",
   "metadata": {},
   "source": [
    "# Introduction\n",
    "In this document we explain how to implement the gradient methods Gradient Decsnet (**GD**), Stochastic Gradient Decsnet (**SGD**), Stochastic Variance Reduced Gradient (**SVRG**) and finally Stochastic Average Gradient (**SAG**).\n",
    "\n",
    "\n",
    "## A regression problem\n",
    "\n",
    "Here we use the gradient methods to minimize the **logistic ridge regression** defined as following:\n",
    "\\begin{align}\n",
    "f= \\frac{1}{n}\\sum_{i=1}^n \\log\\bigg(1+\\exp (-y_i \\mathbf{W}^T x_i)\\bigg)+\\lambda\\lvert\\lvert\\mathbf{W}\\rvert\\rvert^2\n",
    "\\end{align}\n",
    "\n",
    "\n",
    "Consider the following data formats:\n",
    "* $X$ is a $p \\times n$ matrix\n",
    "* $Y$ is a $1 \\times n$ matrix\n",
    "* $W$ is a $p \\times 1$ matrix\n",
    "\n",
    "\n",
    "## Computing the gradient\n",
    "\\begin{align}\n",
    "\\nabla f= \\frac{1}{N}\\sum_{i\\in[N]}\\frac{-y_i}{e^{y_i w^T x_i}+1}x_i + 2\\lambda w\n",
    "\\end{align}\n",
    "\n",
    "\n",
    "## Dataset\n",
    "We are testing the methods on *the greenhouse gas*. Data has 16 rows. We take the first 15 rows of the data as the inout  𝑋  and the first element of the 16th row as the target  𝑌 . The data contains 2921 samples which we are using the last 2920 samples.\n"
   ]
  },
  {
   "cell_type": "code",
   "execution_count": 67,
   "metadata": {},
   "outputs": [],
   "source": [
    "##imports from libraries\n",
    "import numpy  as np\n",
    "import pandas as pd\n",
    "import random\n",
    "from   pathlib import Path\n",
    "import time\n",
    "import matplotlib.pyplot as plt\n",
    "from tqdm import tqdm_notebook as tqdm\n"
   ]
  },
  {
   "cell_type": "markdown",
   "metadata": {},
   "source": [
    "## Data preparation\n",
    "For simplicity and avoid loading all small samples each time, we have stored the loaded files into \"data_x.csv\" and \"data_y.csv\".\n",
    "\n",
    "We also split the dataset in half to obtain train and test data."
   ]
  },
  {
   "cell_type": "code",
   "execution_count": 14,
   "metadata": {},
   "outputs": [],
   "source": [
    "#Load\n",
    "path = Path(Path().absolute())\n",
    "DataPath=str(path)+'/Data/'\n",
    "X_ = np.array(pd.read_csv(DataPath+\"data_x.csv\",header=0).iloc[:,:])\n",
    "Y_ = np.array(pd.read_csv(DataPath+\"data_y.csv\",header=0).iloc[:,:])\n",
    "\n",
    "\n",
    "# Split train and test data here: (X_train, Y_train, X_test, Y_test)\n",
    "X_train=X_[:,0:X_.shape[1]//2]\n",
    "Y_train=Y_[0,0:Y_.shape[1]//2]\n",
    "\n",
    "X_test=X_[:,X_.shape[1]//2:]\n",
    "Y_test=Y_[0,Y_.shape[1]//2:]\n"
   ]
  },
  {
   "cell_type": "code",
   "execution_count": 94,
   "metadata": {},
   "outputs": [],
   "source": [
    "## Logistic ridge regression with different optimizers\n",
    "# cost function and gradient calculation\n",
    "\n",
    "def Logistic_Ridge_Cost(X, Y, W, lambda_ = 0.01):\n",
    "    # X is p by n\n",
    "    # Y is 1 by n\n",
    "    # W is p by 1   \n",
    "    p, n = X.shape\n",
    "    value = 0\n",
    "    for i in range(n):\n",
    "        Z = -1 * Y[i] * np.matmul(W.T , (X[:,i]).reshape(p,1))\n",
    "        value += np.log(1+np.exp(Z))\n",
    "    norm_w = np.linalg.norm(W)\n",
    "    c2 = lambda_ * norm_w ** 2\n",
    "    return value/n + c2 \n",
    "\n",
    "def Function_Gradient(X, Y, W, lambda_ = 0.01):\n",
    "    # X is p by n\n",
    "    # Y is 1 by n\n",
    "    # W is p by 1   \n",
    "    p, n = X.shape\n",
    "    value = np.zeros((p,1))\n",
    "    for i in range(n):       \n",
    "        Z = Y[i] * np.matmul(W.T , (X[:,i]).reshape(p,1))\n",
    "        Q=(-Y[i]/(1+np.exp(Z)))*(X[:,i]).reshape(p,1)        \n",
    "        value += Q\n",
    "        \n",
    "    return value/n+2*lambda_*W\n"
   ]
  },
  {
   "cell_type": "markdown",
   "metadata": {},
   "source": [
    "## GD\n",
    "\\begin{align} \n",
    "&\\text{initialize } w_1\\\\\n",
    "&\\text{for } k = 1,2,...,K\\\\\n",
    "&  \\qquad  \\text{Compute the gradient } g(w_k)\\\\\n",
    "&  \\qquad  \\text{Update } w_{k+1}=w_k - \\alpha g(w_k)\n",
    "\\end{align}    "
   ]
  },
  {
   "cell_type": "code",
   "execution_count": 58,
   "metadata": {},
   "outputs": [],
   "source": [
    "def GD(X,Y, W, alpha, num_iters , lambda_ , epsilon):\n",
    "    # X is p by n\n",
    "    # Y is q by n\n",
    "    # W is p by q\n",
    "    cost_v=[]\n",
    "    pbar = tqdm(total=num_iters)\n",
    "    \n",
    "\n",
    "    for i in range(num_iters):\n",
    "        # update the parameter w for GD here:\n",
    "        g = Function_Gradient(X, Y, W, lambda_)                        \n",
    "        W = W-alpha*g\n",
    "        cost_ = Logistic_Ridge_Cost(X_test,Y_test,W,lambda_)[0]\n",
    "        #print('\\t cost=',cost_)\n",
    "        cost_v.append(cost_)\n",
    "        pbar.update(1)\n",
    "        if (np.linalg.norm(g) <= epsilon):\n",
    "            break\n",
    "    pbar.close()\n",
    "    return W,cost_v\n"
   ]
  },
  {
   "cell_type": "code",
   "execution_count": 95,
   "metadata": {},
   "outputs": [
    {
     "name": "stdout",
     "output_type": "stream",
     "text": [
      "Initial cost:  [[4.06279131]]\n"
     ]
    },
    {
     "data": {
      "application/vnd.jupyter.widget-view+json": {
       "model_id": "b94977e1545f49c58f9c621d7aaa986e",
       "version_major": 2,
       "version_minor": 0
      },
      "text/plain": [
       "HBox(children=(IntProgress(value=0, max=2000), HTML(value='')))"
      ]
     },
     "metadata": {},
     "output_type": "display_data"
    },
    {
     "name": "stdout",
     "output_type": "stream",
     "text": [
      "Cost of GD after convergence:  [[0.01457761]]\n",
      "Training time for GD:  212.849915266037  sconds\n"
     ]
    }
   ],
   "source": [
    "## Solving the optimization problem:\n",
    "# Setting the values here:\n",
    "num_iters = 2000\n",
    "alpha=2e-1\n",
    "lambda_=1e-2\n",
    "epsilon=1e-6\n",
    "\n",
    "\n",
    "p,n = X_train.shape\n",
    "W_init = np.random.rand(p,1)*0.5  # Initialization of w\n",
    "print(\"Initial cost: \",Logistic_Ridge_Cost(X_test,Y_test,W_init,lambda_))\n",
    "\n",
    "start=time.time()\n",
    "gde,cost_GD = GD(X_train,Y_train,W_init,alpha,num_iters,lambda_,epsilon)\n",
    "end = time.time()\n",
    "cost_value = Logistic_Ridge_Cost(X_test,Y_test,gde,lambda_)\n",
    "print(\"Cost of GD after convergence: \",cost_value)\n",
    "print(\"Training time for GD: \", end-start , ' sconds')\n"
   ]
  },
  {
   "cell_type": "markdown",
   "metadata": {},
   "source": [
    "Now we can plot the loss function with respect to itearations. Note that the loss needs to converge eventually.\n",
    "In this experiment we have stopped at **1000** iterations."
   ]
  },
  {
   "cell_type": "code",
   "execution_count": 83,
   "metadata": {},
   "outputs": [
    {
     "data": {
      "text/plain": [
       "Text(0.5, 0, 'iterations')"
      ]
     },
     "execution_count": 83,
     "metadata": {},
     "output_type": "execute_result"
    },
    {
     "data": {
      "image/png": "[encoded data removed]",
      "text/plain": [
       "<Figure size 432x288 with 1 Axes>"
      ]
     },
     "metadata": {
      "needs_background": "light"
     },
     "output_type": "display_data"
    }
   ],
   "source": [
    "plt.plot(np.arange(1000,2000),cost_GD[1000:])\n",
    "plt.title('cost for GD')\n",
    "plt.xlabel('iterations')"
   ]
  },
  {
   "cell_type": "markdown",
   "metadata": {},
   "source": [
    "## SGD\n",
    "In general this can be done in a generic way by assuming a radnomness in creating the gradients. Here we mention on implementation which we take random batches from the data to compute the gradient descent.\n",
    "\\begin{align} \n",
    "&\\text{initialize } w_1\\\\\n",
    "&\\text{for } k = 1,2,...,K\\\\\n",
    "&  \\qquad  \\text{Randomly select a set of indices} \\mathcal{I}^b\\\\\n",
    "&  \\qquad  \\text{Compute the gradient } g(w_k,\\mathcal{I}^b)\\\\\n",
    "&  \\qquad  \\text{Update } w_{k+1}=w_k - \\alpha g(w_k,\\mathcal{I}^b)\n",
    "\\end{align}   "
   ]
  },
  {
   "cell_type": "code",
   "execution_count": 86,
   "metadata": {},
   "outputs": [],
   "source": [
    "def SGD(X,Y, W, alpha, num_iters , lambda_ , epsilon, batchSize=10):\n",
    "    # X is p by n\n",
    "    # Y is q by n\n",
    "    # W is p by q\n",
    "    cost_v=[]\n",
    "    pbar = tqdm(total=num_iters)\n",
    "    \n",
    "\n",
    "    #computes the SGD with respect to random mini-batches\n",
    "    p,n=X.shape\n",
    "    for i in range(num_iters):\n",
    "        # get minibatch\n",
    "        X_mini, Y_mini = miniBatch(X,Y,batchSize)\n",
    "        # update the parameter w for SGD here:\n",
    "        g = Function_Gradient(X_mini, Y_mini, W, lambda_)\n",
    "        W = W-alpha*g\n",
    "        cost_ = Logistic_Ridge_Cost(X_test,Y_test,W,lambda_)[0]\n",
    "        #print('\\t cost=',cost_)\n",
    "        cost_v.append(cost_)\n",
    "        pbar.update(1)\n",
    "        \n",
    "        if (np.linalg.norm(g) <= epsilon):\n",
    "            break\n",
    "    pbar.close()\n",
    "    return W,cost_v\n",
    "\n",
    "##Funtion to get mini batch sgd\n",
    "def miniBatch(X,Y,batchSize):\n",
    "    # X is p by n\n",
    "    # Y is q by n\n",
    "    # W is p by q    \n",
    "    p,n=X.shape\n",
    "    X_mini=np.zeros((p,batchSize))\n",
    "    Y_mini=np.zeros((batchSize,))\n",
    "    indexArray = random.sample(range(n), batchSize)\n",
    "    for i in range(batchSize):\n",
    "        X_mini[:,i]=X[:,indexArray[i]]\n",
    "        Y_mini[i,] =Y[indexArray[i],]\n",
    "    return X_mini,Y_mini"
   ]
  },
  {
   "cell_type": "code",
   "execution_count": 97,
   "metadata": {},
   "outputs": [
    {
     "name": "stdout",
     "output_type": "stream",
     "text": [
      "Initial cost:  [[4.06279131]]\n"
     ]
    },
    {
     "data": {
      "application/vnd.jupyter.widget-view+json": {
       "model_id": "9580be8bcc334e17810883f267d3d3a8",
       "version_major": 2,
       "version_minor": 0
      },
      "text/plain": [
       "HBox(children=(IntProgress(value=0, max=2000), HTML(value='')))"
      ]
     },
     "metadata": {},
     "output_type": "display_data"
    },
    {
     "name": "stdout",
     "output_type": "stream",
     "text": [
      "Cost of SGD after convergence:  [[0.015772]]\n",
      "Training time for SGD:  57.43988513946533  sconds\n"
     ]
    }
   ],
   "source": [
    "## Solving the optimization problem:\n",
    "# Setting the values here:\n",
    "num_iters = 2000\n",
    "alpha=2e-1\n",
    "lambda_=1e-2\n",
    "epsilon=1e-6\n",
    "bSize=1\n",
    "\n",
    "\n",
    "p,n = X_train.shape\n",
    "#W_init = np.random.rand(p,1)*0.5  # Initialization of w\n",
    "print(\"Initial cost: \",Logistic_Ridge_Cost(X_test,Y_test,W_init,lambda_))\n",
    "\n",
    "start=time.time()\n",
    "gde,cost_SGD = SGD(X_train,Y_train,W_init,alpha,num_iters,lambda_,epsilon,batchSize=bSize)\n",
    "end = time.time()\n",
    "cost_value = Logistic_Ridge_Cost(X_test,Y_test,gde,lambda_)\n",
    "print(\"Cost of SGD after convergence: \",cost_value)\n",
    "print(\"Training time for SGD: \", end-start , ' sconds')"
   ]
  },
  {
   "cell_type": "code",
   "execution_count": 99,
   "metadata": {},
   "outputs": [
    {
     "data": {
      "text/plain": [
       "Text(0.5, 0, 'iterations')"
      ]
     },
     "execution_count": 99,
     "metadata": {},
     "output_type": "execute_result"
    },
    {
     "data": {
      "image/png": "[encoded data removed]",
      "text/plain": [
       "<Figure size 432x288 with 1 Axes>"
      ]
     },
     "metadata": {
      "needs_background": "light"
     },
     "output_type": "display_data"
    }
   ],
   "source": [
    "plt.plot(np.arange(0,2000),cost_GD[:],color='blue',label='GD')\n",
    "plt.plot(np.arange(0,2000),cost_SGD[:],color='red',label='SGD with minibatch size=1')\n",
    "plt.legend()\n",
    "plt.title('cost for GD and SGD')\n",
    "plt.xlabel('iterations')"
   ]
  }
 ],
 "metadata": {
  "kernelspec": {
   "display_name": "Python 3",
   "language": "python",
   "name": "python3"
  },
  "language_info": {
   "codemirror_mode": {
    "name": "ipython",
    "version": 3
   },
   "file_extension": ".py",
   "mimetype": "text/x-python",
   "name": "python",
   "nbconvert_exporter": "python",
   "pygments_lexer": "ipython3",
   "version": "3.7.3"
  }
 },
 "nbformat": 4,
 "nbformat_minor": 2
}
