{
 "cells": [
  {
   "cell_type": "markdown",
   "metadata": {},
   "source": [
    "# Compute Assignment 1\n",
    "\n",
    "# part a)\n",
    "\n",
    "Let us define $L=\\frac{1}{N}\\sum\\limits_{i\\in[N]} \\lvert\\lvert w^Tx_i - y_i\\rvert\\rvert^2 + \\lambda\\lvert\\lvert w\\rvert\\rvert^2$\n",
    "\n",
    "Then \n",
    "\\begin{align}\n",
    "\\frac{\\partial L}{\\partial w}&=\\frac{1}{N} \\sum\\limits_{i\\in[N]} \\frac{\\partial x_i^T w w^T x_i}{\\partial w} - 2\\frac{\\partial y_i^T w^T x_i}{\\partial w} + 2\\lambda w\\\\\n",
    "&=\\frac{1}{N} \\sum\\limits_{i\\in[N]} 2 x_i x_i^T w - 2x_i y_i^T + 2\\lambda w\\\\\n",
    "&=0,\n",
    "\\end{align}\n",
    "so\n",
    "\\begin{align}\n",
    "\\frac{1}{N} \\sum\\limits_{i\\in[N]} x_i y_i^T =  \\frac{1}{N}\\sum\\limits_{i\\in[N]}  x_i x_i^T w  + \\lambda w\n",
    "\\end{align}\n",
    "\n",
    "\n",
    "So $$w^*=(XX^T + \\lambda I)^{-1} X Y^T$$\n",
    "where $X=[x_1,x_2,\\dots,x_N]$ and $Y=[y_1,y_2,\\dots,y_N]$.\n",
    "Note that this holds if $X$ is a fat matrix. On the other hand, if $X$ is a tall matrix we should compute the right inverse as follows:\n",
    "$$w^*=X(X^TX + \\lambda I)^{-1} Y^T$$\n",
    "\n"
   ]
  },
  {
   "cell_type": "code",
   "execution_count": 29,
   "metadata": {},
   "outputs": [],
   "source": [
    "##imports from libraries\n",
    "import pandas as pd\n",
    "import numpy as np\n",
    "import time\n",
    "from sklearn import linear_model"
   ]
  },
  {
   "cell_type": "code",
   "execution_count": 9,
   "metadata": {},
   "outputs": [
    {
     "name": "stdout",
     "output_type": "stream",
     "text": [
      "(2075259, 4)\n",
      "(2075259, 2)\n",
      "[[234.84 233.63 233.29 ... 239.82 239.7  239.55]\n",
      " [ 18.4   23.    23.   ...   3.8    3.8    3.8 ]\n",
      " [  0.     0.     0.   ...   0.     0.     0.  ]\n",
      " [  1.     1.     2.   ...   0.     0.     0.  ]]\n",
      "[[4.216 5.36  5.374 ... 0.938 0.934 0.932]\n",
      " [0.418 0.436 0.498 ... 0.    0.    0.   ]]\n"
     ]
    }
   ],
   "source": [
    "## Load data and preprocessing\n",
    "\n",
    "## Example of reading dataset ''crimedata.csv'' : \n",
    "data = pd.read_csv(\"household_power_consumption.txt\", sep=\";\")\n",
    "Y = data.iloc[:,2:4]\n",
    "X = data.iloc[:,4:8]\n",
    "## You can observe the shape of data by \n",
    "print(X.shape)\n",
    "print(Y.shape)\n",
    "\n",
    "X_ = np.array(X.replace({'?':0})).T\n",
    "Y_ = np.array(Y.replace({'?':0})).T\n",
    "\n",
    "X_ = X_.astype(float)\n",
    "Y_ = Y_.astype(float)\n",
    "\n",
    "#Y_ = np.array(Y).reshape(Y.shape[1],Y.shape[0])"
   ]
  },
  {
   "cell_type": "code",
   "execution_count": 32,
   "metadata": {},
   "outputs": [
    {
     "name": "stdout",
     "output_type": "stream",
     "text": [
      "my result\n",
      "time= 0.10849595069885254  seconds\n",
      "w=\n",
      " [[-5.06370205e-05  3.83915746e-04]\n",
      " [ 2.39266696e-01  6.62357767e-03]\n",
      " [-1.26168605e-03 -7.18129903e-05]\n",
      " [-1.44871660e-03  5.09803289e-04]]\n",
      "MSE 8.221321832090663e-05 \n",
      "\n",
      "\n",
      "sklearn:\n",
      "time= 0.12466740608215332  seconds\n",
      "w=\n",
      " [[ 1.33213175e-06  3.77957792e-04]\n",
      " [ 2.39283423e-01  6.62165997e-03]\n",
      " [-1.26214423e-03 -7.17604620e-05]\n",
      " [-1.44939987e-03  5.09881622e-04]]\n",
      "MSE 8.267688332411155e-05 \n",
      "\n",
      "\n"
     ]
    }
   ],
   "source": [
    "## Closed form solution and optimal linear regressor\n",
    "\n",
    "# Define lambda here:\n",
    "lam = 0 # change the value\n",
    "\n",
    "start = time.time()\n",
    "## Calculate the closed-form solution here:\n",
    "A=X_.dot(X_.T)+lam*np.eye(X_.shape[0])\n",
    "w=np.linalg.inv(A).dot(X_).dot(Y_.T)\n",
    "end = time.time()\n",
    "print('my result')\n",
    "print('time=',end-start,' seconds')\n",
    "print('w=\\n',w)\n",
    "print('MSE',np.linalg.norm(Y_-w.T.dot(X_),ord='fro')/X_.shape[1],'\\n\\n')\n",
    "\n",
    "\n",
    "reg = linear_model.Ridge(alpha=0)\n",
    "start = time.time()\n",
    "## Find the optimal linear regressor here:\n",
    "reg.fit(X_.T,Y_.T)\n",
    "end = time.time()\n",
    "w_sk=reg.coef_.T\n",
    "print('sklearn:')\n",
    "print('time=',end-start,' seconds')\n",
    "print('w=\\n',w_sk)\n",
    "print('MSE',np.linalg.norm(Y_-w_sk.T.dot(X_),ord='fro')/X_.shape[1],'\\n\\n')"
   ]
  },
  {
   "cell_type": "markdown",
   "metadata": {},
   "source": [
    "# Part b)\n",
    " \n",
    " In this part we should note that the feature dimension is larger than number of samples. To make loading the files easier we have saved the tables of data and target in two separate files \"data_x.csv\" and \"data_y.csv\". You can skip the following chunk and run the next onw which computes the optimization."
   ]
  },
  {
   "cell_type": "code",
   "execution_count": null,
   "metadata": {},
   "outputs": [],
   "source": [
    "## Load data and preprocessing\n",
    "\n",
    "## Example of reading dataset ''crimedata.csv'' : \n",
    "X_=np.ndarray((0,15*327))\n",
    "Y_=np.ndarray((0,327))\n",
    "\n",
    "#2921\n",
    "for i in range(2920):\n",
    "    print(i)\n",
    "    f_name='ghg_data/ghg.gid.site'+format(i+2,'04d')+'.dat'\n",
    "    #print(f_name)\n",
    "    data = pd.read_csv(f_name, sep=\" \",header=None)\n",
    "    #print(data.shape)\n",
    "    X = data.iloc[0:15,:]\n",
    "    Y = data.iloc[15,:]\n",
    "\n",
    "    X = np.array(X).reshape(1,X.size)\n",
    "    Y = np.array(Y).reshape(1,Y.size)\n",
    "    X[np.isnan(X)] = 0\n",
    "    Y[np.isnan(Y)] = 0\n",
    "    \n",
    "    X = X.astype(float)\n",
    "    Y = Y.astype(float)\n",
    "\n",
    "    X_=np.append(X_,X,axis=0)\n",
    "    Y_=np.append(Y_,Y,axis=0)\n",
    "\n",
    "X_=X_.T\n",
    "Y_=Y_.T\n",
    "\n",
    "print(X_.shape)\n",
    "print(Y_.shape)\n",
    "\n",
    "pd.DataFrame(X_).to_csv(\"data_x.csv\",index=None)\n",
    "pd.DataFrame(Y_).to_csv(\"data_y.csv\",index=None)\n"
   ]
  },
  {
   "cell_type": "code",
   "execution_count": 36,
   "metadata": {},
   "outputs": [
    {
     "name": "stdout",
     "output_type": "stream",
     "text": [
      "(4905, 2920)\n",
      "(327, 2920)\n"
     ]
    }
   ],
   "source": [
    "X_=X_.T\n",
    "Y_=Y_.T\n",
    "\n",
    "print(X_.shape)\n",
    "print(Y_.shape)\n",
    "\n",
    "pd.DataFrame(X_).to_csv(\"data_x.csv\",index=None)\n",
    "pd.DataFrame(Y_).to_csv(\"data_y.csv\",index=None)\n"
   ]
  },
  {
   "cell_type": "code",
   "execution_count": 42,
   "metadata": {
    "scrolled": true
   },
   "outputs": [
    {
     "name": "stdout",
     "output_type": "stream",
     "text": [
      "my result\n",
      "time= 4.206740617752075  seconds\n",
      "w=\n",
      " [[ 1.33803412 -4.31297239  4.16732297 ... -1.86285653 -5.94045856\n",
      "  -2.42493391]\n",
      " [-0.6360965  -1.87888913 -2.78599494 ...  0.44103952  0.37084066\n",
      "   0.79503398]\n",
      " [-1.68106993 -0.93070618  0.376551   ...  2.24363459  2.0820761\n",
      "   3.31640699]\n",
      " ...\n",
      " [-0.19863554  2.77347287 -0.65526122 ...  3.29014362 -0.74947238\n",
      "   2.05378872]\n",
      " [ 0.89627061 -0.47173865  0.5663919  ...  2.6731825  -1.16484659\n",
      "   2.65890758]\n",
      " [ 0.40965161 -0.47173038  1.87818188 ... -4.50098456  6.77277378\n",
      "  -6.85810515]]\n",
      "MSE 0.0215563869078414 \n",
      "\n",
      "\n",
      "sklearn:\n",
      "time= 1.6495862007141113  seconds\n",
      "w=\n",
      " [[ 1.33300239 -4.30578355  4.16568257 ... -1.8672794  -5.93134384\n",
      "  -2.41699773]\n",
      " [-0.59923742 -1.93154987 -2.77397844 ...  0.4734386   0.30407218\n",
      "   0.73689869]\n",
      " [-1.51311191 -1.17066862  0.43130729 ...  2.39126951  1.77782807\n",
      "   3.05149839]\n",
      " ...\n",
      " [-0.29996717  2.91824585 -0.68829652 ...  3.20107323 -0.56591493\n",
      "   2.2136121 ]\n",
      " [ 0.8845912  -0.45505225  0.56258428 ...  2.66291633 -1.14368993\n",
      "   2.67732869]\n",
      " [ 0.37120103 -0.41679586  1.86564654 ... -4.53478256  6.84242518\n",
      "  -6.7974597 ]]\n",
      "MSE 30.292344524156473 \n",
      "\n",
      "\n"
     ]
    }
   ],
   "source": [
    "#Load the data\n",
    "#X_ = pd.read_csv('data_x.csv')\n",
    "#Y_ = pd.read_csv('data_y.csv')\n",
    "\n",
    "## Closed form solution and optimal linear regressor\n",
    "\n",
    "# Define lambda here:\n",
    "lam = 0.01# change the value\n",
    "\n",
    "start = time.time()\n",
    "## Calculate the closed-form solution here:\n",
    "A=X_.T.dot(X_)+lam*np.eye(X_.shape[1])\n",
    "w=X_.dot(np.linalg.inv(A)).dot(Y_.T)\n",
    "end = time.time()\n",
    "print('my result')\n",
    "print('time=',end-start,' seconds')\n",
    "print('w=\\n',w)\n",
    "print('MSE',np.linalg.norm(Y_-w.T.dot(X_),ord='fro')/X_.shape[1],'\\n\\n')\n",
    "\n",
    "\n",
    "reg = linear_model.Ridge(alpha=0.01)\n",
    "start = time.time()\n",
    "## Find the optimal linear regressor here:\n",
    "reg.fit(X_.T,Y_.T)\n",
    "end = time.time()\n",
    "w_sk=reg.coef_.T\n",
    "print('sklearn:')\n",
    "print('time=',end-start,' seconds')\n",
    "print('w=\\n',w_sk)\n",
    "print('MSE',np.linalg.norm(Y_-w_sk.T.dot(X_),ord='fro')/X_.shape[1],'\\n\\n')"
   ]
  },
  {
   "cell_type": "markdown",
   "metadata": {},
   "source": [
    "It can be observed that the time for running this part is more than the case with lower dimension.\n",
    "The reason of difference between MSE is that the norm of target itself is affecting the MSE and since the dimension of the target is high (327) the difference has become significant.\n",
    "Also two algorithms may compute the inverse differently."
   ]
  },
  {
   "cell_type": "markdown",
   "metadata": {},
   "source": [
    "# part c)\n",
    "\n",
    "If the dimension of the matrix is very high, we have to note two things:\n",
    "- The closed form solution should be handled if we do not have enough samples and $X$ is tall.\n",
    "- To compute the inverse of a large matrix we can use techniques to take the inverse piecewise:\n",
    "\n",
    "$\\textbf{A}=\\begin{pmatrix}\\textbf{E}&\\textbf{F}\\\\\\\\ \\textbf{G}&\\textbf{H}\\end{pmatrix}$\n",
    "\n",
    "and\n",
    "\n",
    "$\\textbf{A}^{-1}=\\begin{pmatrix}\\textbf{E}^{-1}+\\textbf{E}^{-1}\\textbf{F}\\textbf{S}^{-1}\\textbf{G}\\textbf{E}^{-1}&-\\textbf{E}^{-1}\\textbf{F}\\textbf{S}^{-1}\\\\\\\\ -\\textbf{S}^{-1}\\textbf{G}\\textbf{E}^{-1}&\\textbf{S}^{-1}\\end{pmatrix}$."
   ]
  }
 ],
 "metadata": {
  "kernelspec": {
   "display_name": "Python 3",
   "language": "python",
   "name": "python3"
  },
  "language_info": {
   "codemirror_mode": {
    "name": "ipython",
    "version": 3
   },
   "file_extension": ".py",
   "mimetype": "text/x-python",
   "name": "python",
   "nbconvert_exporter": "python",
   "pygments_lexer": "ipython3",
   "version": "3.7.3"
  }
 },
 "nbformat": 4,
 "nbformat_minor": 2
}
