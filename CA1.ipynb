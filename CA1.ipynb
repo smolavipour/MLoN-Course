{
 "cells": [
  {
   "cell_type": "markdown",
   "metadata": {},
   "source": [
    "# CA 1\n",
    "\n",
    "## a)\n",
    "\n",
    "Let us define $L=\\frac{1}{N}\\sum\\limits_{i\\in[N]} \\lvert\\lvert w^Tx_i - y_i\\rvert\\rvert^2 + \\lambda\\lvert\\lvert w\\rvert\\rvert^2$\n",
    "\n",
    "Then \n",
    "\\begin{align}\n",
    "\\frac{\\partial L}{\\partial w}&=\\frac{1}{N} \\sum\\limits_{i\\in[N]} \\frac{\\partial x_i^T w w^T x_i}{\\partial w} - 2\\frac{\\partial y_i^T w^T x_i}{\\partial w} + 2\\lambda w\\\\\n",
    "&=\\frac{1}{N} \\sum\\limits_{i\\in[N]} 2 x_i x_i^T w - 2x_i y_i^T + 2\\lambda w\\\\\n",
    "&=0,\n",
    "\\end{align}\n",
    "so\n",
    "\\begin{align}\n",
    "\\frac{1}{N} \\sum\\limits_{i\\in[N]} x_i y_i^T =  \\frac{1}{N}\\sum\\limits_{i\\in[N]}  x_i x_i^T w  + \\lambda w\n",
    "\\end{align}\n",
    "\n",
    "\n",
    "So $$w^*=(XX^T + \\lambda I)^{-1} X Y^T$$\n",
    "where $X=[x_1,x_2,\\dots,x_N]$ and $Y=[y_1,y_2,\\dots,y_N]$"
   ]
  },
  {
   "cell_type": "code",
   "execution_count": 2,
   "metadata": {},
   "outputs": [],
   "source": [
    "##imports from libraries\n",
    "import pandas as pd\n",
    "import numpy as np\n",
    "import time\n",
    "from sklearn import linear_model"
   ]
  },
  {
   "cell_type": "code",
   "execution_count": 9,
   "metadata": {},
   "outputs": [
    {
     "name": "stdout",
     "output_type": "stream",
     "text": [
      "(2075259, 4)\n",
      "(2075259, 2)\n",
      "[[234.84 233.63 233.29 ... 239.82 239.7  239.55]\n",
      " [ 18.4   23.    23.   ...   3.8    3.8    3.8 ]\n",
      " [  0.     0.     0.   ...   0.     0.     0.  ]\n",
      " [  1.     1.     2.   ...   0.     0.     0.  ]]\n",
      "[[4.216 5.36  5.374 ... 0.938 0.934 0.932]\n",
      " [0.418 0.436 0.498 ... 0.    0.    0.   ]]\n"
     ]
    }
   ],
   "source": [
    "## Load data and preprocessing\n",
    "\n",
    "## Example of reading dataset ''crimedata.csv'' : \n",
    "data = pd.read_csv(\"household_power_consumption.txt\", sep=\";\")\n",
    "Y = data.iloc[:,2:4]\n",
    "X = data.iloc[:,4:8]\n",
    "## You can observe the shape of data by \n",
    "print(X.shape)\n",
    "print(Y.shape)\n",
    "\n",
    "X_ = np.array(X.replace({'?':0})).T\n",
    "Y_ = np.array(Y.replace({'?':0})).T\n",
    "\n",
    "X_ = X_.astype(float)\n",
    "Y_ = Y_.astype(float)\n",
    "\n",
    "#Y_ = np.array(Y).reshape(Y.shape[1],Y.shape[0])"
   ]
  },
  {
   "cell_type": "code",
   "execution_count": 32,
   "metadata": {},
   "outputs": [
    {
     "name": "stdout",
     "output_type": "stream",
     "text": [
      "my result\n",
      "time= 0.10849595069885254  seconds\n",
      "w=\n",
      " [[-5.06370205e-05  3.83915746e-04]\n",
      " [ 2.39266696e-01  6.62357767e-03]\n",
      " [-1.26168605e-03 -7.18129903e-05]\n",
      " [-1.44871660e-03  5.09803289e-04]]\n",
      "MSE 8.221321832090663e-05 \n",
      "\n",
      "\n",
      "sklearn:\n",
      "time= 0.12466740608215332  seconds\n",
      "w=\n",
      " [[ 1.33213175e-06  3.77957792e-04]\n",
      " [ 2.39283423e-01  6.62165997e-03]\n",
      " [-1.26214423e-03 -7.17604620e-05]\n",
      " [-1.44939987e-03  5.09881622e-04]]\n",
      "MSE 8.267688332411155e-05 \n",
      "\n",
      "\n"
     ]
    }
   ],
   "source": [
    "## Closed form solution and optimal linear regressor\n",
    "\n",
    "# Define lambda here:\n",
    "lam = 0 # change the value\n",
    "\n",
    "start = time.time()\n",
    "## Calculate the closed-form solution here:\n",
    "A=X_.dot(X_.T)+lam*np.eye(X_.shape[0])\n",
    "w=np.linalg.inv(A).dot(X_).dot(Y_.T)\n",
    "end = time.time()\n",
    "print('my result')\n",
    "print('time=',end-start,' seconds')\n",
    "print('w=\\n',w)\n",
    "print('MSE',np.linalg.norm(Y_-w.T.dot(X_),ord='fro')/X_.shape[1],'\\n\\n')\n",
    "\n",
    "\n",
    "reg = linear_model.Ridge(alpha=0)\n",
    "start = time.time()\n",
    "## Find the optimal linear regressor here:\n",
    "reg.fit(X_.T,Y_.T)\n",
    "end = time.time()\n",
    "w_sk=reg.coef_.T\n",
    "print('sklearn:')\n",
    "print('time=',end-start,' seconds')\n",
    "print('w=\\n',w_sk)\n",
    "print('MSE',np.linalg.norm(Y_-w_sk.T.dot(X_),ord='fro')/X_.shape[1],'\\n\\n')"
   ]
  }
 ],
 "metadata": {
  "kernelspec": {
   "display_name": "Python 3",
   "language": "python",
   "name": "python3"
  },
  "language_info": {
   "codemirror_mode": {
    "name": "ipython",
    "version": 3
   },
   "file_extension": ".py",
   "mimetype": "text/x-python",
   "name": "python",
   "nbconvert_exporter": "python",
   "pygments_lexer": "ipython3",
   "version": "3.7.3"
  }
 },
 "nbformat": 4,
 "nbformat_minor": 2
}
